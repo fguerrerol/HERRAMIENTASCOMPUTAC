{
 "cells": [
  {
   "cell_type": "markdown",
   "metadata": {},
   "source": [
    "### Codigo de frecuencia ### \n"
   ]
  },
  {
   "cell_type": "code",
   "execution_count": 1,
   "metadata": {},
   "outputs": [],
   "source": [
    "import pandas as pd\n",
    "import numpy as np\n",
    "import matplotlib.pyplot as plt\n",
    "import os\n",
    "from quantecon import ARMA, periodogram, ar_periodogram\n",
    "\n"
   ]
  },
  {
   "cell_type": "code",
   "execution_count": 2,
   "metadata": {},
   "outputs": [
    {
     "data": {
      "text/plain": [
       "'/Users/apple'"
      ]
     },
     "execution_count": 2,
     "metadata": {},
     "output_type": "execute_result"
    }
   ],
   "source": [
    "os.getcwd()"
   ]
  },
  {
   "cell_type": "code",
   "execution_count": 3,
   "metadata": {},
   "outputs": [
    {
     "data": {
      "text/plain": [
       "'/Users/apple/Documents/MEcon/Tesis-Posibles/CicloVel'"
      ]
     },
     "execution_count": 3,
     "metadata": {},
     "output_type": "execute_result"
    }
   ],
   "source": [
    "os.chdir('/Users/apple/Documents/MEcon/Tesis-Posibles/CicloVel')\n",
    "os.getcwd()"
   ]
  },
  {
   "cell_type": "markdown",
   "metadata": {},
   "source": [
    "## JALO LA BASE DE DATOS DE LA TASA DE CRECIMIENTO DEL PBI PARA TODOS LOS PAISES AJUSTADO POR TRIMESTRE"
   ]
  },
  {
   "cell_type": "code",
   "execution_count": 4,
   "metadata": {},
   "outputs": [
    {
     "data": {
      "text/html": [
       "<div>\n",
       "<style scoped>\n",
       "    .dataframe tbody tr th:only-of-type {\n",
       "        vertical-align: middle;\n",
       "    }\n",
       "\n",
       "    .dataframe tbody tr th {\n",
       "        vertical-align: top;\n",
       "    }\n",
       "\n",
       "    .dataframe thead th {\n",
       "        text-align: right;\n",
       "    }\n",
       "</style>\n",
       "<table border=\"1\" class=\"dataframe\">\n",
       "  <thead>\n",
       "    <tr style=\"text-align: right;\">\n",
       "      <th></th>\n",
       "      <th>LOCATION</th>\n",
       "      <th>Country</th>\n",
       "      <th>SUBJECT</th>\n",
       "      <th>Subject</th>\n",
       "      <th>MEASURE</th>\n",
       "      <th>Measure</th>\n",
       "      <th>FREQUENCY</th>\n",
       "      <th>Frequency</th>\n",
       "      <th>TIME</th>\n",
       "      <th>Period</th>\n",
       "      <th>Unit Code</th>\n",
       "      <th>Unit</th>\n",
       "      <th>PowerCode Code</th>\n",
       "      <th>PowerCode</th>\n",
       "      <th>Reference Period Code</th>\n",
       "      <th>Reference Period</th>\n",
       "      <th>Value</th>\n",
       "      <th>Flag Codes</th>\n",
       "      <th>Flags</th>\n",
       "    </tr>\n",
       "  </thead>\n",
       "  <tbody>\n",
       "    <tr>\n",
       "      <th>0</th>\n",
       "      <td>AUS</td>\n",
       "      <td>Australia</td>\n",
       "      <td>B1_GE</td>\n",
       "      <td>Gross domestic product - expenditure approach</td>\n",
       "      <td>GPSA</td>\n",
       "      <td>Growth rate based on seasonally adjusted volum...</td>\n",
       "      <td>Q</td>\n",
       "      <td>Quarterly</td>\n",
       "      <td>1960-Q2</td>\n",
       "      <td>Q2-1960</td>\n",
       "      <td>PC</td>\n",
       "      <td>Percentage</td>\n",
       "      <td>0</td>\n",
       "      <td>Units</td>\n",
       "      <td>NaN</td>\n",
       "      <td>NaN</td>\n",
       "      <td>2.761952</td>\n",
       "      <td>NaN</td>\n",
       "      <td>NaN</td>\n",
       "    </tr>\n",
       "    <tr>\n",
       "      <th>1</th>\n",
       "      <td>AUS</td>\n",
       "      <td>Australia</td>\n",
       "      <td>B1_GE</td>\n",
       "      <td>Gross domestic product - expenditure approach</td>\n",
       "      <td>GPSA</td>\n",
       "      <td>Growth rate based on seasonally adjusted volum...</td>\n",
       "      <td>Q</td>\n",
       "      <td>Quarterly</td>\n",
       "      <td>1960-Q3</td>\n",
       "      <td>Q3-1960</td>\n",
       "      <td>PC</td>\n",
       "      <td>Percentage</td>\n",
       "      <td>0</td>\n",
       "      <td>Units</td>\n",
       "      <td>NaN</td>\n",
       "      <td>NaN</td>\n",
       "      <td>0.225553</td>\n",
       "      <td>NaN</td>\n",
       "      <td>NaN</td>\n",
       "    </tr>\n",
       "    <tr>\n",
       "      <th>2</th>\n",
       "      <td>AUS</td>\n",
       "      <td>Australia</td>\n",
       "      <td>B1_GE</td>\n",
       "      <td>Gross domestic product - expenditure approach</td>\n",
       "      <td>GPSA</td>\n",
       "      <td>Growth rate based on seasonally adjusted volum...</td>\n",
       "      <td>Q</td>\n",
       "      <td>Quarterly</td>\n",
       "      <td>1960-Q4</td>\n",
       "      <td>Q4-1960</td>\n",
       "      <td>PC</td>\n",
       "      <td>Percentage</td>\n",
       "      <td>0</td>\n",
       "      <td>Units</td>\n",
       "      <td>NaN</td>\n",
       "      <td>NaN</td>\n",
       "      <td>-0.197459</td>\n",
       "      <td>NaN</td>\n",
       "      <td>NaN</td>\n",
       "    </tr>\n",
       "    <tr>\n",
       "      <th>3</th>\n",
       "      <td>AUS</td>\n",
       "      <td>Australia</td>\n",
       "      <td>B1_GE</td>\n",
       "      <td>Gross domestic product - expenditure approach</td>\n",
       "      <td>GPSA</td>\n",
       "      <td>Growth rate based on seasonally adjusted volum...</td>\n",
       "      <td>Q</td>\n",
       "      <td>Quarterly</td>\n",
       "      <td>1961-Q1</td>\n",
       "      <td>Q1-1961</td>\n",
       "      <td>PC</td>\n",
       "      <td>Percentage</td>\n",
       "      <td>0</td>\n",
       "      <td>Units</td>\n",
       "      <td>NaN</td>\n",
       "      <td>NaN</td>\n",
       "      <td>0.301139</td>\n",
       "      <td>NaN</td>\n",
       "      <td>NaN</td>\n",
       "    </tr>\n",
       "    <tr>\n",
       "      <th>4</th>\n",
       "      <td>AUS</td>\n",
       "      <td>Australia</td>\n",
       "      <td>B1_GE</td>\n",
       "      <td>Gross domestic product - expenditure approach</td>\n",
       "      <td>GPSA</td>\n",
       "      <td>Growth rate based on seasonally adjusted volum...</td>\n",
       "      <td>Q</td>\n",
       "      <td>Quarterly</td>\n",
       "      <td>1961-Q2</td>\n",
       "      <td>Q2-1961</td>\n",
       "      <td>PC</td>\n",
       "      <td>Percentage</td>\n",
       "      <td>0</td>\n",
       "      <td>Units</td>\n",
       "      <td>NaN</td>\n",
       "      <td>NaN</td>\n",
       "      <td>-1.096510</td>\n",
       "      <td>NaN</td>\n",
       "      <td>NaN</td>\n",
       "    </tr>\n",
       "  </tbody>\n",
       "</table>\n",
       "</div>"
      ],
      "text/plain": [
       "  LOCATION    Country SUBJECT                                        Subject  \\\n",
       "0      AUS  Australia   B1_GE  Gross domestic product - expenditure approach   \n",
       "1      AUS  Australia   B1_GE  Gross domestic product - expenditure approach   \n",
       "2      AUS  Australia   B1_GE  Gross domestic product - expenditure approach   \n",
       "3      AUS  Australia   B1_GE  Gross domestic product - expenditure approach   \n",
       "4      AUS  Australia   B1_GE  Gross domestic product - expenditure approach   \n",
       "\n",
       "  MEASURE                                            Measure FREQUENCY  \\\n",
       "0    GPSA  Growth rate based on seasonally adjusted volum...         Q   \n",
       "1    GPSA  Growth rate based on seasonally adjusted volum...         Q   \n",
       "2    GPSA  Growth rate based on seasonally adjusted volum...         Q   \n",
       "3    GPSA  Growth rate based on seasonally adjusted volum...         Q   \n",
       "4    GPSA  Growth rate based on seasonally adjusted volum...         Q   \n",
       "\n",
       "   Frequency     TIME   Period Unit Code        Unit  PowerCode Code  \\\n",
       "0  Quarterly  1960-Q2  Q2-1960        PC  Percentage               0   \n",
       "1  Quarterly  1960-Q3  Q3-1960        PC  Percentage               0   \n",
       "2  Quarterly  1960-Q4  Q4-1960        PC  Percentage               0   \n",
       "3  Quarterly  1961-Q1  Q1-1961        PC  Percentage               0   \n",
       "4  Quarterly  1961-Q2  Q2-1961        PC  Percentage               0   \n",
       "\n",
       "  PowerCode  Reference Period Code  Reference Period     Value Flag Codes  \\\n",
       "0     Units                    NaN               NaN  2.761952        NaN   \n",
       "1     Units                    NaN               NaN  0.225553        NaN   \n",
       "2     Units                    NaN               NaN -0.197459        NaN   \n",
       "3     Units                    NaN               NaN  0.301139        NaN   \n",
       "4     Units                    NaN               NaN -1.096510        NaN   \n",
       "\n",
       "  Flags  \n",
       "0   NaN  \n",
       "1   NaN  \n",
       "2   NaN  \n",
       "3   NaN  \n",
       "4   NaN  "
      ]
     },
     "execution_count": 4,
     "metadata": {},
     "output_type": "execute_result"
    }
   ],
   "source": [
    "OECD =pd.read_csv('PBI-OECD.csv')\n",
    "OECD.head(5)\n"
   ]
  },
  {
   "cell_type": "code",
   "execution_count": 5,
   "metadata": {},
   "outputs": [
    {
     "data": {
      "text/html": [
       "<div>\n",
       "<style scoped>\n",
       "    .dataframe tbody tr th:only-of-type {\n",
       "        vertical-align: middle;\n",
       "    }\n",
       "\n",
       "    .dataframe tbody tr th {\n",
       "        vertical-align: top;\n",
       "    }\n",
       "\n",
       "    .dataframe thead th {\n",
       "        text-align: right;\n",
       "    }\n",
       "</style>\n",
       "<table border=\"1\" class=\"dataframe\">\n",
       "  <thead>\n",
       "    <tr style=\"text-align: right;\">\n",
       "      <th></th>\n",
       "      <th>LOCATION</th>\n",
       "      <th>Country</th>\n",
       "      <th>SUBJECT</th>\n",
       "      <th>Subject</th>\n",
       "      <th>MEASURE</th>\n",
       "      <th>Measure</th>\n",
       "      <th>TIME</th>\n",
       "      <th>Value</th>\n",
       "    </tr>\n",
       "  </thead>\n",
       "  <tbody>\n",
       "    <tr>\n",
       "      <th>0</th>\n",
       "      <td>AUS</td>\n",
       "      <td>Australia</td>\n",
       "      <td>B1_GE</td>\n",
       "      <td>Gross domestic product - expenditure approach</td>\n",
       "      <td>GPSA</td>\n",
       "      <td>Growth rate based on seasonally adjusted volum...</td>\n",
       "      <td>1960-Q2</td>\n",
       "      <td>2.761952</td>\n",
       "    </tr>\n",
       "    <tr>\n",
       "      <th>1</th>\n",
       "      <td>AUS</td>\n",
       "      <td>Australia</td>\n",
       "      <td>B1_GE</td>\n",
       "      <td>Gross domestic product - expenditure approach</td>\n",
       "      <td>GPSA</td>\n",
       "      <td>Growth rate based on seasonally adjusted volum...</td>\n",
       "      <td>1960-Q3</td>\n",
       "      <td>0.225553</td>\n",
       "    </tr>\n",
       "    <tr>\n",
       "      <th>2</th>\n",
       "      <td>AUS</td>\n",
       "      <td>Australia</td>\n",
       "      <td>B1_GE</td>\n",
       "      <td>Gross domestic product - expenditure approach</td>\n",
       "      <td>GPSA</td>\n",
       "      <td>Growth rate based on seasonally adjusted volum...</td>\n",
       "      <td>1960-Q4</td>\n",
       "      <td>-0.197459</td>\n",
       "    </tr>\n",
       "    <tr>\n",
       "      <th>3</th>\n",
       "      <td>AUS</td>\n",
       "      <td>Australia</td>\n",
       "      <td>B1_GE</td>\n",
       "      <td>Gross domestic product - expenditure approach</td>\n",
       "      <td>GPSA</td>\n",
       "      <td>Growth rate based on seasonally adjusted volum...</td>\n",
       "      <td>1961-Q1</td>\n",
       "      <td>0.301139</td>\n",
       "    </tr>\n",
       "  </tbody>\n",
       "</table>\n",
       "</div>"
      ],
      "text/plain": [
       "  LOCATION    Country SUBJECT                                        Subject  \\\n",
       "0      AUS  Australia   B1_GE  Gross domestic product - expenditure approach   \n",
       "1      AUS  Australia   B1_GE  Gross domestic product - expenditure approach   \n",
       "2      AUS  Australia   B1_GE  Gross domestic product - expenditure approach   \n",
       "3      AUS  Australia   B1_GE  Gross domestic product - expenditure approach   \n",
       "\n",
       "  MEASURE                                            Measure     TIME  \\\n",
       "0    GPSA  Growth rate based on seasonally adjusted volum...  1960-Q2   \n",
       "1    GPSA  Growth rate based on seasonally adjusted volum...  1960-Q3   \n",
       "2    GPSA  Growth rate based on seasonally adjusted volum...  1960-Q4   \n",
       "3    GPSA  Growth rate based on seasonally adjusted volum...  1961-Q1   \n",
       "\n",
       "      Value  \n",
       "0  2.761952  \n",
       "1  0.225553  \n",
       "2 -0.197459  \n",
       "3  0.301139  "
      ]
     },
     "execution_count": 5,
     "metadata": {},
     "output_type": "execute_result"
    }
   ],
   "source": [
    "Col_drop =[\"FREQUENCY\",\"PowerCode Code\",\"PowerCode\",\"Frequency\",\"Period\",\"Unit Code\",\"Unit\",\"Reference Period Code\",\"Reference Period\",\"Flag Codes\",\"Flags\"]\n",
    "OECD =OECD.drop(Col_drop,axis=1)\n",
    "OECD.head(4)"
   ]
  },
  {
   "cell_type": "code",
   "execution_count": 6,
   "metadata": {},
   "outputs": [],
   "source": [
    "OECD.loc[OECD['TIME'].str.slice(-3) == '-Q1', 'YearC'] = (OECD[\"TIME\"].str.slice(stop=4)).astype(float) \n",
    "OECD.loc[OECD['TIME'].str.slice(-3) == '-Q2', 'YearC'] = (OECD[\"TIME\"].str.slice(stop=4) + \".25\").astype(float) \n",
    "OECD.loc[OECD['TIME'].str.slice(-3) == '-Q3', 'YearC'] = (OECD[\"TIME\"].str.slice(stop=4) + \".50\").astype(float) \n",
    "OECD.loc[OECD['TIME'].str.slice(-3) == '-Q4', 'YearC'] = (OECD[\"TIME\"].str.slice(stop=4) + \".75\").astype(float) "
   ]
  },
  {
   "cell_type": "code",
   "execution_count": 7,
   "metadata": {},
   "outputs": [],
   "source": [
    "OECD[\"YEAR\"] = OECD[\"TIME\"].str.slice(stop=4).astype(int)"
   ]
  },
  {
   "cell_type": "code",
   "execution_count": 8,
   "metadata": {},
   "outputs": [
    {
     "data": {
      "text/plain": [
       "0        1960.25\n",
       "1        1960.50\n",
       "2        1960.75\n",
       "3        1961.00\n",
       "4        1961.25\n",
       "          ...   \n",
       "74324    2020.00\n",
       "74325    2020.25\n",
       "74326    2020.50\n",
       "74327    2020.75\n",
       "74328    2021.00\n",
       "Name: YearC, Length: 74329, dtype: float64"
      ]
     },
     "execution_count": 8,
     "metadata": {},
     "output_type": "execute_result"
    }
   ],
   "source": [
    "OECD[\"YearC\"]"
   ]
  },
  {
   "cell_type": "code",
   "execution_count": 9,
   "metadata": {},
   "outputs": [
    {
     "name": "stdout",
     "output_type": "stream",
     "text": [
      "5478\n",
      "589\n",
      "74.0\n"
     ]
    }
   ],
   "source": [
    "USA = OECD.loc[OECD[\"LOCATION\"] == \"USA\"]\n",
    "print(len(USA[\"Value\"]))\n",
    "USA = USA.loc[USA[\"SUBJECT\"]==\"B1_GE\"]\n",
    "print(len(USA[\"Value\"]))\n",
    "\n",
    "USA_GPSA = USA.loc[USA[\"MEASURE\"] == \"GPSA\"]\n",
    "USA_GYSA = USA.loc[USA[\"MEASURE\"] == \"GYSA\"]\n",
    "\n",
    "print(len(USA_GPSA[\"Value\"])/4)"
   ]
  },
  {
   "cell_type": "markdown",
   "metadata": {},
   "source": [
    "## ME QUEDO SOLO CON LA DATA DE ESTADOS UNIDOS\n"
   ]
  },
  {
   "cell_type": "code",
   "execution_count": 10,
   "metadata": {},
   "outputs": [
    {
     "data": {
      "text/html": [
       "<div>\n",
       "<style scoped>\n",
       "    .dataframe tbody tr th:only-of-type {\n",
       "        vertical-align: middle;\n",
       "    }\n",
       "\n",
       "    .dataframe tbody tr th {\n",
       "        vertical-align: top;\n",
       "    }\n",
       "\n",
       "    .dataframe thead th {\n",
       "        text-align: right;\n",
       "    }\n",
       "</style>\n",
       "<table border=\"1\" class=\"dataframe\">\n",
       "  <thead>\n",
       "    <tr style=\"text-align: right;\">\n",
       "      <th></th>\n",
       "      <th>LOCATION</th>\n",
       "      <th>Country</th>\n",
       "      <th>SUBJECT</th>\n",
       "      <th>Subject</th>\n",
       "      <th>MEASURE</th>\n",
       "      <th>Measure</th>\n",
       "      <th>TIME</th>\n",
       "      <th>Value</th>\n",
       "      <th>YearC</th>\n",
       "      <th>YEAR</th>\n",
       "    </tr>\n",
       "  </thead>\n",
       "  <tbody>\n",
       "    <tr>\n",
       "      <th>8671</th>\n",
       "      <td>USA</td>\n",
       "      <td>United States</td>\n",
       "      <td>B1_GE</td>\n",
       "      <td>Gross domestic product - expenditure approach</td>\n",
       "      <td>GPSA</td>\n",
       "      <td>Growth rate based on seasonally adjusted volum...</td>\n",
       "      <td>1947-Q2</td>\n",
       "      <td>-0.266691</td>\n",
       "      <td>1947.25</td>\n",
       "      <td>1947</td>\n",
       "    </tr>\n",
       "    <tr>\n",
       "      <th>8672</th>\n",
       "      <td>USA</td>\n",
       "      <td>United States</td>\n",
       "      <td>B1_GE</td>\n",
       "      <td>Gross domestic product - expenditure approach</td>\n",
       "      <td>GPSA</td>\n",
       "      <td>Growth rate based on seasonally adjusted volum...</td>\n",
       "      <td>1947-Q3</td>\n",
       "      <td>-0.206496</td>\n",
       "      <td>1947.50</td>\n",
       "      <td>1947</td>\n",
       "    </tr>\n",
       "    <tr>\n",
       "      <th>8673</th>\n",
       "      <td>USA</td>\n",
       "      <td>United States</td>\n",
       "      <td>B1_GE</td>\n",
       "      <td>Gross domestic product - expenditure approach</td>\n",
       "      <td>GPSA</td>\n",
       "      <td>Growth rate based on seasonally adjusted volum...</td>\n",
       "      <td>1947-Q4</td>\n",
       "      <td>1.564208</td>\n",
       "      <td>1947.75</td>\n",
       "      <td>1947</td>\n",
       "    </tr>\n",
       "    <tr>\n",
       "      <th>8674</th>\n",
       "      <td>USA</td>\n",
       "      <td>United States</td>\n",
       "      <td>B1_GE</td>\n",
       "      <td>Gross domestic product - expenditure approach</td>\n",
       "      <td>GPSA</td>\n",
       "      <td>Growth rate based on seasonally adjusted volum...</td>\n",
       "      <td>1948-Q1</td>\n",
       "      <td>1.504256</td>\n",
       "      <td>1948.00</td>\n",
       "      <td>1948</td>\n",
       "    </tr>\n",
       "    <tr>\n",
       "      <th>8675</th>\n",
       "      <td>USA</td>\n",
       "      <td>United States</td>\n",
       "      <td>B1_GE</td>\n",
       "      <td>Gross domestic product - expenditure approach</td>\n",
       "      <td>GPSA</td>\n",
       "      <td>Growth rate based on seasonally adjusted volum...</td>\n",
       "      <td>1948-Q2</td>\n",
       "      <td>1.650658</td>\n",
       "      <td>1948.25</td>\n",
       "      <td>1948</td>\n",
       "    </tr>\n",
       "  </tbody>\n",
       "</table>\n",
       "</div>"
      ],
      "text/plain": [
       "     LOCATION        Country SUBJECT  \\\n",
       "8671      USA  United States   B1_GE   \n",
       "8672      USA  United States   B1_GE   \n",
       "8673      USA  United States   B1_GE   \n",
       "8674      USA  United States   B1_GE   \n",
       "8675      USA  United States   B1_GE   \n",
       "\n",
       "                                            Subject MEASURE  \\\n",
       "8671  Gross domestic product - expenditure approach    GPSA   \n",
       "8672  Gross domestic product - expenditure approach    GPSA   \n",
       "8673  Gross domestic product - expenditure approach    GPSA   \n",
       "8674  Gross domestic product - expenditure approach    GPSA   \n",
       "8675  Gross domestic product - expenditure approach    GPSA   \n",
       "\n",
       "                                                Measure     TIME     Value  \\\n",
       "8671  Growth rate based on seasonally adjusted volum...  1947-Q2 -0.266691   \n",
       "8672  Growth rate based on seasonally adjusted volum...  1947-Q3 -0.206496   \n",
       "8673  Growth rate based on seasonally adjusted volum...  1947-Q4  1.564208   \n",
       "8674  Growth rate based on seasonally adjusted volum...  1948-Q1  1.504256   \n",
       "8675  Growth rate based on seasonally adjusted volum...  1948-Q2  1.650658   \n",
       "\n",
       "        YearC  YEAR  \n",
       "8671  1947.25  1947  \n",
       "8672  1947.50  1947  \n",
       "8673  1947.75  1947  \n",
       "8674  1948.00  1948  \n",
       "8675  1948.25  1948  "
      ]
     },
     "execution_count": 10,
     "metadata": {},
     "output_type": "execute_result"
    }
   ],
   "source": [
    "USA.head(5)"
   ]
  },
  {
   "cell_type": "code",
   "execution_count": 11,
   "metadata": {},
   "outputs": [
    {
     "data": {
      "text/plain": [
       "[<matplotlib.lines.Line2D at 0x12907b5b0>]"
      ]
     },
     "execution_count": 11,
     "metadata": {},
     "output_type": "execute_result"
    },
    {
     "data": {
      "image/png": "[encoded data removed]",
      "text/plain": [
       "<Figure size 432x288 with 1 Axes>"
      ]
     },
     "metadata": {
      "needs_background": "light"
     },
     "output_type": "display_data"
    }
   ],
   "source": [
    "plt.plot(USA_GPSA[\"YearC\"],USA_GPSA[\"Value\"])"
   ]
  },
  {
   "cell_type": "markdown",
   "metadata": {},
   "source": [
    "# EL GRÁFICO DE ARRIBA MUESTRA LA TASA DE CRECIMIENTO DEL PBI CON RESPECTO A SU NIVEL TRIMESTRAL ANTERIOR ESTA SERIE VA PARA 1960 HASTA 2021, SOLO PARA ESTADOS UNIDOS. COMO SE PUEDE VER EN EL 2020 ESTA LA GRAN CAIDA POR EL CORONAVIRUS Y LA RAPIDA RECUPERACION\n"
   ]
  },
  {
   "cell_type": "code",
   "execution_count": 53,
   "metadata": {},
   "outputs": [],
   "source": [
    "####AAAAAAAAAAAAAAAAAAAAAAAA######"
   ]
  },
  {
   "cell_type": "markdown",
   "metadata": {},
   "source": [
    "# AHORA DIVIDIRE LA DATA EN 3 SECCIONES Y ELABORARE UN ANÁLISIS DE FRECUENCIA (UTILIZANDO PERIODOGRAMA) PARA HALLAR LAS MAGNITUDES Y CADA CUANTO SE REPITE CADA CICLO ; PARA ESTO LA DATA SERA DIVIDIDA EN UNA ËPOCA PRE INTERNET, LA EPOCA DE SURGIMIENTO DE INTERNET; Y LAS 2 ULTIMAS DECADAS"
   ]
  },
  {
   "cell_type": "markdown",
   "metadata": {},
   "source": [
    "### DIVIDIRE LA DATA EN 3 SECCIONES ##\n",
    "1940 - 1990\n",
    "1990 - 2000\n",
    "2000 - 2020"
   ]
  },
  {
   "cell_type": "code",
   "execution_count": 12,
   "metadata": {},
   "outputs": [
    {
     "data": {
      "text/html": [
       "<div>\n",
       "<style scoped>\n",
       "    .dataframe tbody tr th:only-of-type {\n",
       "        vertical-align: middle;\n",
       "    }\n",
       "\n",
       "    .dataframe tbody tr th {\n",
       "        vertical-align: top;\n",
       "    }\n",
       "\n",
       "    .dataframe thead th {\n",
       "        text-align: right;\n",
       "    }\n",
       "</style>\n",
       "<table border=\"1\" class=\"dataframe\">\n",
       "  <thead>\n",
       "    <tr style=\"text-align: right;\">\n",
       "      <th></th>\n",
       "      <th>LOCATION</th>\n",
       "      <th>Country</th>\n",
       "      <th>SUBJECT</th>\n",
       "      <th>Subject</th>\n",
       "      <th>MEASURE</th>\n",
       "      <th>Measure</th>\n",
       "      <th>TIME</th>\n",
       "      <th>Value</th>\n",
       "      <th>YearC</th>\n",
       "      <th>YEAR</th>\n",
       "    </tr>\n",
       "  </thead>\n",
       "  <tbody>\n",
       "    <tr>\n",
       "      <th>8838</th>\n",
       "      <td>USA</td>\n",
       "      <td>United States</td>\n",
       "      <td>B1_GE</td>\n",
       "      <td>Gross domestic product - expenditure approach</td>\n",
       "      <td>GPSA</td>\n",
       "      <td>Growth rate based on seasonally adjusted volum...</td>\n",
       "      <td>1989-Q1</td>\n",
       "      <td>1.016602</td>\n",
       "      <td>1989.00</td>\n",
       "      <td>1989</td>\n",
       "    </tr>\n",
       "    <tr>\n",
       "      <th>8839</th>\n",
       "      <td>USA</td>\n",
       "      <td>United States</td>\n",
       "      <td>B1_GE</td>\n",
       "      <td>Gross domestic product - expenditure approach</td>\n",
       "      <td>GPSA</td>\n",
       "      <td>Growth rate based on seasonally adjusted volum...</td>\n",
       "      <td>1989-Q2</td>\n",
       "      <td>0.763269</td>\n",
       "      <td>1989.25</td>\n",
       "      <td>1989</td>\n",
       "    </tr>\n",
       "    <tr>\n",
       "      <th>8840</th>\n",
       "      <td>USA</td>\n",
       "      <td>United States</td>\n",
       "      <td>B1_GE</td>\n",
       "      <td>Gross domestic product - expenditure approach</td>\n",
       "      <td>GPSA</td>\n",
       "      <td>Growth rate based on seasonally adjusted volum...</td>\n",
       "      <td>1989-Q3</td>\n",
       "      <td>0.740881</td>\n",
       "      <td>1989.50</td>\n",
       "      <td>1989</td>\n",
       "    </tr>\n",
       "    <tr>\n",
       "      <th>8841</th>\n",
       "      <td>USA</td>\n",
       "      <td>United States</td>\n",
       "      <td>B1_GE</td>\n",
       "      <td>Gross domestic product - expenditure approach</td>\n",
       "      <td>GPSA</td>\n",
       "      <td>Growth rate based on seasonally adjusted volum...</td>\n",
       "      <td>1989-Q4</td>\n",
       "      <td>0.197047</td>\n",
       "      <td>1989.75</td>\n",
       "      <td>1989</td>\n",
       "    </tr>\n",
       "    <tr>\n",
       "      <th>8842</th>\n",
       "      <td>USA</td>\n",
       "      <td>United States</td>\n",
       "      <td>B1_GE</td>\n",
       "      <td>Gross domestic product - expenditure approach</td>\n",
       "      <td>GPSA</td>\n",
       "      <td>Growth rate based on seasonally adjusted volum...</td>\n",
       "      <td>1990-Q1</td>\n",
       "      <td>1.092790</td>\n",
       "      <td>1990.00</td>\n",
       "      <td>1990</td>\n",
       "    </tr>\n",
       "  </tbody>\n",
       "</table>\n",
       "</div>"
      ],
      "text/plain": [
       "     LOCATION        Country SUBJECT  \\\n",
       "8838      USA  United States   B1_GE   \n",
       "8839      USA  United States   B1_GE   \n",
       "8840      USA  United States   B1_GE   \n",
       "8841      USA  United States   B1_GE   \n",
       "8842      USA  United States   B1_GE   \n",
       "\n",
       "                                            Subject MEASURE  \\\n",
       "8838  Gross domestic product - expenditure approach    GPSA   \n",
       "8839  Gross domestic product - expenditure approach    GPSA   \n",
       "8840  Gross domestic product - expenditure approach    GPSA   \n",
       "8841  Gross domestic product - expenditure approach    GPSA   \n",
       "8842  Gross domestic product - expenditure approach    GPSA   \n",
       "\n",
       "                                                Measure     TIME     Value  \\\n",
       "8838  Growth rate based on seasonally adjusted volum...  1989-Q1  1.016602   \n",
       "8839  Growth rate based on seasonally adjusted volum...  1989-Q2  0.763269   \n",
       "8840  Growth rate based on seasonally adjusted volum...  1989-Q3  0.740881   \n",
       "8841  Growth rate based on seasonally adjusted volum...  1989-Q4  0.197047   \n",
       "8842  Growth rate based on seasonally adjusted volum...  1990-Q1  1.092790   \n",
       "\n",
       "        YearC  YEAR  \n",
       "8838  1989.00  1989  \n",
       "8839  1989.25  1989  \n",
       "8840  1989.50  1989  \n",
       "8841  1989.75  1989  \n",
       "8842  1990.00  1990  "
      ]
     },
     "execution_count": 12,
     "metadata": {},
     "output_type": "execute_result"
    }
   ],
   "source": [
    "#### Sección 1 ####\n",
    "USA_GPSA1= USA_GPSA.loc[USA_GPSA[\"YearC\"] <= 1990]\n",
    "USA_GPSA1.tail(5)"
   ]
  },
  {
   "cell_type": "markdown",
   "metadata": {},
   "source": [
    "# ESTE ES EL RATIO/TASA DE CRECIMIENTO(CON RESPECTO AL PERIODO ANTERIOR) DEL AÑO 1950 AL AÑO 1990"
   ]
  },
  {
   "cell_type": "code",
   "execution_count": 13,
   "metadata": {},
   "outputs": [
    {
     "data": {
      "text/plain": [
       "[<matplotlib.lines.Line2D at 0x10ec2ea60>]"
      ]
     },
     "execution_count": 13,
     "metadata": {},
     "output_type": "execute_result"
    },
    {
     "data": {
      "image/png": "[encoded data removed]",
      "text/plain": [
       "<Figure size 432x288 with 1 Axes>"
      ]
     },
     "metadata": {
      "needs_background": "light"
     },
     "output_type": "display_data"
    }
   ],
   "source": [
    "plt.plot(USA_GPSA1[\"YearC\"],USA_GPSA1[\"Value\"])"
   ]
  },
  {
   "cell_type": "code",
   "execution_count": 14,
   "metadata": {},
   "outputs": [
    {
     "data": {
      "text/html": [
       "<div>\n",
       "<style scoped>\n",
       "    .dataframe tbody tr th:only-of-type {\n",
       "        vertical-align: middle;\n",
       "    }\n",
       "\n",
       "    .dataframe tbody tr th {\n",
       "        vertical-align: top;\n",
       "    }\n",
       "\n",
       "    .dataframe thead th {\n",
       "        text-align: right;\n",
       "    }\n",
       "</style>\n",
       "<table border=\"1\" class=\"dataframe\">\n",
       "  <thead>\n",
       "    <tr style=\"text-align: right;\">\n",
       "      <th></th>\n",
       "      <th>LOCATION</th>\n",
       "      <th>Country</th>\n",
       "      <th>SUBJECT</th>\n",
       "      <th>Subject</th>\n",
       "      <th>MEASURE</th>\n",
       "      <th>Measure</th>\n",
       "      <th>TIME</th>\n",
       "      <th>Value</th>\n",
       "      <th>YearC</th>\n",
       "      <th>YEAR</th>\n",
       "    </tr>\n",
       "  </thead>\n",
       "  <tbody>\n",
       "    <tr>\n",
       "      <th>8878</th>\n",
       "      <td>USA</td>\n",
       "      <td>United States</td>\n",
       "      <td>B1_GE</td>\n",
       "      <td>Gross domestic product - expenditure approach</td>\n",
       "      <td>GPSA</td>\n",
       "      <td>Growth rate based on seasonally adjusted volum...</td>\n",
       "      <td>1999-Q1</td>\n",
       "      <td>0.946472</td>\n",
       "      <td>1999.00</td>\n",
       "      <td>1999</td>\n",
       "    </tr>\n",
       "    <tr>\n",
       "      <th>8879</th>\n",
       "      <td>USA</td>\n",
       "      <td>United States</td>\n",
       "      <td>B1_GE</td>\n",
       "      <td>Gross domestic product - expenditure approach</td>\n",
       "      <td>GPSA</td>\n",
       "      <td>Growth rate based on seasonally adjusted volum...</td>\n",
       "      <td>1999-Q2</td>\n",
       "      <td>0.769159</td>\n",
       "      <td>1999.25</td>\n",
       "      <td>1999</td>\n",
       "    </tr>\n",
       "    <tr>\n",
       "      <th>8880</th>\n",
       "      <td>USA</td>\n",
       "      <td>United States</td>\n",
       "      <td>B1_GE</td>\n",
       "      <td>Gross domestic product - expenditure approach</td>\n",
       "      <td>GPSA</td>\n",
       "      <td>Growth rate based on seasonally adjusted volum...</td>\n",
       "      <td>1999-Q3</td>\n",
       "      <td>1.309665</td>\n",
       "      <td>1999.50</td>\n",
       "      <td>1999</td>\n",
       "    </tr>\n",
       "    <tr>\n",
       "      <th>8881</th>\n",
       "      <td>USA</td>\n",
       "      <td>United States</td>\n",
       "      <td>B1_GE</td>\n",
       "      <td>Gross domestic product - expenditure approach</td>\n",
       "      <td>GPSA</td>\n",
       "      <td>Growth rate based on seasonally adjusted volum...</td>\n",
       "      <td>1999-Q4</td>\n",
       "      <td>1.699585</td>\n",
       "      <td>1999.75</td>\n",
       "      <td>1999</td>\n",
       "    </tr>\n",
       "    <tr>\n",
       "      <th>8882</th>\n",
       "      <td>USA</td>\n",
       "      <td>United States</td>\n",
       "      <td>B1_GE</td>\n",
       "      <td>Gross domestic product - expenditure approach</td>\n",
       "      <td>GPSA</td>\n",
       "      <td>Growth rate based on seasonally adjusted volum...</td>\n",
       "      <td>2000-Q1</td>\n",
       "      <td>0.361760</td>\n",
       "      <td>2000.00</td>\n",
       "      <td>2000</td>\n",
       "    </tr>\n",
       "  </tbody>\n",
       "</table>\n",
       "</div>"
      ],
      "text/plain": [
       "     LOCATION        Country SUBJECT  \\\n",
       "8878      USA  United States   B1_GE   \n",
       "8879      USA  United States   B1_GE   \n",
       "8880      USA  United States   B1_GE   \n",
       "8881      USA  United States   B1_GE   \n",
       "8882      USA  United States   B1_GE   \n",
       "\n",
       "                                            Subject MEASURE  \\\n",
       "8878  Gross domestic product - expenditure approach    GPSA   \n",
       "8879  Gross domestic product - expenditure approach    GPSA   \n",
       "8880  Gross domestic product - expenditure approach    GPSA   \n",
       "8881  Gross domestic product - expenditure approach    GPSA   \n",
       "8882  Gross domestic product - expenditure approach    GPSA   \n",
       "\n",
       "                                                Measure     TIME     Value  \\\n",
       "8878  Growth rate based on seasonally adjusted volum...  1999-Q1  0.946472   \n",
       "8879  Growth rate based on seasonally adjusted volum...  1999-Q2  0.769159   \n",
       "8880  Growth rate based on seasonally adjusted volum...  1999-Q3  1.309665   \n",
       "8881  Growth rate based on seasonally adjusted volum...  1999-Q4  1.699585   \n",
       "8882  Growth rate based on seasonally adjusted volum...  2000-Q1  0.361760   \n",
       "\n",
       "        YearC  YEAR  \n",
       "8878  1999.00  1999  \n",
       "8879  1999.25  1999  \n",
       "8880  1999.50  1999  \n",
       "8881  1999.75  1999  \n",
       "8882  2000.00  2000  "
      ]
     },
     "execution_count": 14,
     "metadata": {},
     "output_type": "execute_result"
    }
   ],
   "source": [
    "#### Seccion 2 ###\n",
    "USA_GPSA2= USA_GPSA.loc[(USA_GPSA[\"YearC\"] > 1990) & (USA_GPSA[\"YearC\"] <=2000)]\n",
    "USA_GPSA2.tail(5)"
   ]
  },
  {
   "cell_type": "markdown",
   "metadata": {},
   "source": [
    "# ESTE ES EL RATIO/TASA DE CRECIMIENTO(CON RESPECTO AL PERIODO ANTERIOR) DEL AÑO 1990 AL AÑO 2000"
   ]
  },
  {
   "cell_type": "code",
   "execution_count": 15,
   "metadata": {},
   "outputs": [
    {
     "data": {
      "text/plain": [
       "[<matplotlib.lines.Line2D at 0x12772ca30>]"
      ]
     },
     "execution_count": 15,
     "metadata": {},
     "output_type": "execute_result"
    },
    {
     "data": {
      "image/png": "[encoded data removed]",
      "text/plain": [
       "<Figure size 432x288 with 1 Axes>"
      ]
     },
     "metadata": {
      "needs_background": "light"
     },
     "output_type": "display_data"
    }
   ],
   "source": [
    "plt.plot(USA_GPSA2[\"YearC\"],USA_GPSA2[\"Value\"])"
   ]
  },
  {
   "cell_type": "code",
   "execution_count": 16,
   "metadata": {},
   "outputs": [
    {
     "data": {
      "text/html": [
       "<div>\n",
       "<style scoped>\n",
       "    .dataframe tbody tr th:only-of-type {\n",
       "        vertical-align: middle;\n",
       "    }\n",
       "\n",
       "    .dataframe tbody tr th {\n",
       "        vertical-align: top;\n",
       "    }\n",
       "\n",
       "    .dataframe thead th {\n",
       "        text-align: right;\n",
       "    }\n",
       "</style>\n",
       "<table border=\"1\" class=\"dataframe\">\n",
       "  <thead>\n",
       "    <tr style=\"text-align: right;\">\n",
       "      <th></th>\n",
       "      <th>LOCATION</th>\n",
       "      <th>Country</th>\n",
       "      <th>SUBJECT</th>\n",
       "      <th>Subject</th>\n",
       "      <th>MEASURE</th>\n",
       "      <th>Measure</th>\n",
       "      <th>TIME</th>\n",
       "      <th>Value</th>\n",
       "      <th>YearC</th>\n",
       "      <th>YEAR</th>\n",
       "    </tr>\n",
       "  </thead>\n",
       "  <tbody>\n",
       "    <tr>\n",
       "      <th>8962</th>\n",
       "      <td>USA</td>\n",
       "      <td>United States</td>\n",
       "      <td>B1_GE</td>\n",
       "      <td>Gross domestic product - expenditure approach</td>\n",
       "      <td>GPSA</td>\n",
       "      <td>Growth rate based on seasonally adjusted volum...</td>\n",
       "      <td>2020-Q1</td>\n",
       "      <td>-1.262655</td>\n",
       "      <td>2020.00</td>\n",
       "      <td>2020</td>\n",
       "    </tr>\n",
       "    <tr>\n",
       "      <th>8963</th>\n",
       "      <td>USA</td>\n",
       "      <td>United States</td>\n",
       "      <td>B1_GE</td>\n",
       "      <td>Gross domestic product - expenditure approach</td>\n",
       "      <td>GPSA</td>\n",
       "      <td>Growth rate based on seasonally adjusted volum...</td>\n",
       "      <td>2020-Q2</td>\n",
       "      <td>-8.986117</td>\n",
       "      <td>2020.25</td>\n",
       "      <td>2020</td>\n",
       "    </tr>\n",
       "    <tr>\n",
       "      <th>8964</th>\n",
       "      <td>USA</td>\n",
       "      <td>United States</td>\n",
       "      <td>B1_GE</td>\n",
       "      <td>Gross domestic product - expenditure approach</td>\n",
       "      <td>GPSA</td>\n",
       "      <td>Growth rate based on seasonally adjusted volum...</td>\n",
       "      <td>2020-Q3</td>\n",
       "      <td>7.478741</td>\n",
       "      <td>2020.50</td>\n",
       "      <td>2020</td>\n",
       "    </tr>\n",
       "    <tr>\n",
       "      <th>8965</th>\n",
       "      <td>USA</td>\n",
       "      <td>United States</td>\n",
       "      <td>B1_GE</td>\n",
       "      <td>Gross domestic product - expenditure approach</td>\n",
       "      <td>GPSA</td>\n",
       "      <td>Growth rate based on seasonally adjusted volum...</td>\n",
       "      <td>2020-Q4</td>\n",
       "      <td>1.064204</td>\n",
       "      <td>2020.75</td>\n",
       "      <td>2020</td>\n",
       "    </tr>\n",
       "    <tr>\n",
       "      <th>8966</th>\n",
       "      <td>USA</td>\n",
       "      <td>United States</td>\n",
       "      <td>B1_GE</td>\n",
       "      <td>Gross domestic product - expenditure approach</td>\n",
       "      <td>GPSA</td>\n",
       "      <td>Growth rate based on seasonally adjusted volum...</td>\n",
       "      <td>2021-Q1</td>\n",
       "      <td>1.553381</td>\n",
       "      <td>2021.00</td>\n",
       "      <td>2021</td>\n",
       "    </tr>\n",
       "  </tbody>\n",
       "</table>\n",
       "</div>"
      ],
      "text/plain": [
       "     LOCATION        Country SUBJECT  \\\n",
       "8962      USA  United States   B1_GE   \n",
       "8963      USA  United States   B1_GE   \n",
       "8964      USA  United States   B1_GE   \n",
       "8965      USA  United States   B1_GE   \n",
       "8966      USA  United States   B1_GE   \n",
       "\n",
       "                                            Subject MEASURE  \\\n",
       "8962  Gross domestic product - expenditure approach    GPSA   \n",
       "8963  Gross domestic product - expenditure approach    GPSA   \n",
       "8964  Gross domestic product - expenditure approach    GPSA   \n",
       "8965  Gross domestic product - expenditure approach    GPSA   \n",
       "8966  Gross domestic product - expenditure approach    GPSA   \n",
       "\n",
       "                                                Measure     TIME     Value  \\\n",
       "8962  Growth rate based on seasonally adjusted volum...  2020-Q1 -1.262655   \n",
       "8963  Growth rate based on seasonally adjusted volum...  2020-Q2 -8.986117   \n",
       "8964  Growth rate based on seasonally adjusted volum...  2020-Q3  7.478741   \n",
       "8965  Growth rate based on seasonally adjusted volum...  2020-Q4  1.064204   \n",
       "8966  Growth rate based on seasonally adjusted volum...  2021-Q1  1.553381   \n",
       "\n",
       "        YearC  YEAR  \n",
       "8962  2020.00  2020  \n",
       "8963  2020.25  2020  \n",
       "8964  2020.50  2020  \n",
       "8965  2020.75  2020  \n",
       "8966  2021.00  2021  "
      ]
     },
     "execution_count": 16,
     "metadata": {},
     "output_type": "execute_result"
    }
   ],
   "source": [
    "#### Seccion 3 ###\n",
    "USA_GPSA3= USA_GPSA.loc[USA_GPSA[\"YearC\"] >= 2000]\n",
    "USA_GPSA3.tail(5)"
   ]
  },
  {
   "cell_type": "markdown",
   "metadata": {},
   "source": [
    "# ESTE ES EL RATIO/TASA DE CRECIMIENTO(CON RESPECTO AL PERIODO ANTERIOR) DEL AÑO 2000 AL AÑO 2020\n"
   ]
  },
  {
   "cell_type": "code",
   "execution_count": 17,
   "metadata": {},
   "outputs": [
    {
     "data": {
      "text/plain": [
       "[<matplotlib.lines.Line2D at 0x10ec22040>]"
      ]
     },
     "execution_count": 17,
     "metadata": {},
     "output_type": "execute_result"
    },
    {
     "data": {
      "image/png": "[encoded data removed]",
      "text/plain": [
       "<Figure size 432x288 with 1 Axes>"
      ]
     },
     "metadata": {
      "needs_background": "light"
     },
     "output_type": "display_data"
    }
   ],
   "source": [
    "plt.plot(USA_GPSA3[\"YearC\"],USA_GPSA3[\"Value\"])"
   ]
  },
  {
   "cell_type": "code",
   "execution_count": 18,
   "metadata": {},
   "outputs": [],
   "source": [
    "from numpy.fft import rfft, irfft, rfftfreq\n",
    "from scipy import pi, signal, fftpack"
   ]
  },
  {
   "cell_type": "markdown",
   "metadata": {},
   "source": [
    "# LUEGO DE ESTO PLOTEO A LAS SEÑALES CON UN PERIODOGRAMA EN EL CUAL SE VA A MOSTRAR LA AMPLITUD DE LA SEÑAL Y SU FRECUENCIA EN LA QUE OCURRE PARA ESTE CASO LA FRECUENCIA DE MEUSTREO SERÁ 4 MUESTRAS POR AÑO #"
   ]
  },
  {
   "cell_type": "code",
   "execution_count": 49,
   "metadata": {},
   "outputs": [
    {
     "data": {
      "text/plain": [
       "Text(0, 0.5, 'Spectrum Amplitude')"
      ]
     },
     "execution_count": 49,
     "metadata": {},
     "output_type": "execute_result"
    },
    {
     "data": {
      "image/png": "[encoded data removed]",
      "text/plain": [
       "<Figure size 720x576 with 1 Axes>"
      ]
     },
     "metadata": {
      "needs_background": "light"
     },
     "output_type": "display_data"
    }
   ],
   "source": [
    "fs=4\n",
    "f1, Px1 = signal.periodogram(USA_GPSA1[\"Value\"], fs = fs, window='hanning', scaling='spectrum')\n",
    "plt.figure(figsize = (10, 8))\n",
    "plt.stem(f1, Px1,use_line_collection=True)\n",
    "plt.xlim(0,2)\n",
    "#plt.yscale('log')\n",
    "plt.xlabel('Frequency (cycles/year)')\n",
    "plt.ylabel('Spectrum Amplitude')"
   ]
  },
  {
   "cell_type": "code",
   "execution_count": 50,
   "metadata": {},
   "outputs": [
    {
     "data": {
      "text/plain": [
       "Text(0, 0.5, 'Spectrum Amplitude')"
      ]
     },
     "execution_count": 50,
     "metadata": {},
     "output_type": "execute_result"
    },
    {
     "data": {
      "image/png": "[encoded data removed]",
      "text/plain": [
       "<Figure size 720x576 with 1 Axes>"
      ]
     },
     "metadata": {
      "needs_background": "light"
     },
     "output_type": "display_data"
    }
   ],
   "source": [
    "f2, Px2 = signal.periodogram(USA_GPSA2[\"Value\"], fs = fs, window='hanning', scaling='spectrum')\n",
    "plt.figure(figsize = (10, 8))\n",
    "plt.stem(f2, Px2,use_line_collection=True)\n",
    "plt.xlim(0,2)\n",
    "#plt.yscale('log')\n",
    "plt.xlabel('Frequency (cycles/year)')\n",
    "plt.ylabel('Spectrum Amplitude')"
   ]
  },
  {
   "cell_type": "code",
   "execution_count": 51,
   "metadata": {},
   "outputs": [
    {
     "data": {
      "text/plain": [
       "Text(0, 0.5, 'Spectrum Amplitude')"
      ]
     },
     "execution_count": 51,
     "metadata": {},
     "output_type": "execute_result"
    },
    {
     "data": {
      "image/png": "[encoded data removed]",
      "text/plain": [
       "<Figure size 720x576 with 1 Axes>"
      ]
     },
     "metadata": {
      "needs_background": "light"
     },
     "output_type": "display_data"
    }
   ],
   "source": [
    "f3, Px3 = signal.periodogram(USA_GPSA3[\"Value\"], fs = fs, window='hanning', scaling='spectrum')\n",
    "plt.figure(figsize = (10, 8))\n",
    "plt.stem(f3, Px3,use_line_collection=True)\n",
    "plt.xlim(0,2)\n",
    "#plt.yscale('log')\n",
    "plt.xlabel('Frequency (cycles/year)')\n",
    "plt.ylabel('Spectrum Amplitude')"
   ]
  },
  {
   "cell_type": "markdown",
   "metadata": {},
   "source": [
    "# LUEGO DE HACER ESTO DISCRIMINAMOS POR LOS 5 VALORES DE AMPLITUD MAS ALTOS Y CONTRASTAMOS CON SU FRECUENCIA DE OCURRENCIA ; PARA LOS 3 PERIODOS EN ESE ORDEN , CON ESTO OBTENEMOS CUANTO DURARIA CADA CICLO EN LOS 3 INTERVALOS DE TIEMPO,"
   ]
  },
  {
   "cell_type": "markdown",
   "metadata": {},
   "source": [
    "## Aqui podemos encontrar que en el primer periodo existen ciclos economicos cada 3 años y medios y un ciclo cada 6 y un ciclo cada 2 años y medio"
   ]
  },
  {
   "cell_type": "code",
   "execution_count": 54,
   "metadata": {},
   "outputs": [
    {
     "name": "stdout",
     "output_type": "stream",
     "text": [
      "3.307692307692308\n",
      "3.5833333333333335\n",
      "6.142857142857142\n",
      "2.3888888888888893\n"
     ]
    }
   ],
   "source": [
    "for amp_arg in np.argsort(np.abs(Px1))[::-1][0:4]:\n",
    "    year = 1 / f1[amp_arg]\n",
    "    print(year)"
   ]
  },
  {
   "cell_type": "markdown",
   "metadata": {},
   "source": [
    "## Aqui los ciclos parece que duran mucho menos (Periodo del años 1990 al año 2000)"
   ]
  },
  {
   "cell_type": "code",
   "execution_count": 55,
   "metadata": {},
   "outputs": [
    {
     "name": "stdout",
     "output_type": "stream",
     "text": [
      "2.0\n",
      "2.5\n",
      "0.5\n",
      "0.5263157894736842\n"
     ]
    }
   ],
   "source": [
    "for amp_arg in np.argsort(np.abs(Px2))[::-1][0:4]:\n",
    "    year = 1 / f2[amp_arg]\n",
    "    print(year)"
   ]
  },
  {
   "cell_type": "markdown",
   "metadata": {},
   "source": [
    "# Aaqui tenemos el ciclo de 3 años y medio tambien, el ciclo de 10 años personalemtne no lo consideraria por que es el shock ocasionado por el covid"
   ]
  },
  {
   "cell_type": "code",
   "execution_count": 56,
   "metadata": {},
   "outputs": [
    {
     "name": "stdout",
     "output_type": "stream",
     "text": [
      "10.625\n",
      "2.361111111111111\n",
      "3.5416666666666665\n",
      "7.083333333333333\n"
     ]
    }
   ],
   "source": [
    "for amp_arg3 in np.argsort(np.abs(Px3))[::-1][0:4]:\n",
    "    year = 1 / f3[amp_arg3]\n",
    "    print(year)"
   ]
  },
  {
   "cell_type": "code",
   "execution_count": null,
   "metadata": {},
   "outputs": [],
   "source": []
  }
 ],
 "metadata": {
  "kernelspec": {
   "display_name": "Python 3",
   "language": "python",
   "name": "python3"
  },
  "language_info": {
   "codemirror_mode": {
    "name": "ipython",
    "version": 3
   },
   "file_extension": ".py",
   "mimetype": "text/x-python",
   "name": "python",
   "nbconvert_exporter": "python",
   "pygments_lexer": "ipython3",
   "version": "3.8.3"
  }
 },
 "nbformat": 4,
 "nbformat_minor": 4
}
